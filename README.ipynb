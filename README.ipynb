{
 "cells": [
  {
   "attachments": {},
   "cell_type": "markdown",
   "metadata": {},
   "source": [
    "# A Text to Image Web App with Stable Diffusion, Fast API and React"
   ]
  },
  {
   "attachments": {},
   "cell_type": "markdown",
   "metadata": {},
   "source": [
    "Inspired by [Nicholas Renotte's YouTube video](https://www.youtube.com/watch?v=3l16wCsDglU), I'm coding up this as my weekend fun project. "
   ]
  },
  {
   "attachments": {},
   "cell_type": "markdown",
   "metadata": {},
   "source": [
    "## Deploy the Model"
   ]
  },
  {
   "attachments": {},
   "cell_type": "markdown",
   "metadata": {},
   "source": [
    "To deploy the Stable Diffusion model, I took a shortcut to use SageMaker JumpStart: `Stable Diffusion 2.1 base` pretrained on [LAION-5B](https://laion.ai/blog/laion-5b/) is provided under SageMaker JumpStart's \"Foundation Models: Image Generation\" ML task. It can be deployed by one click, so that's what I did!"
   ]
  },
  {
   "attachments": {},
   "cell_type": "markdown",
   "metadata": {},
   "source": [
    "Find the model:\n",
    "\n",
    "![SageMaker JumpStart](images/SageMaker-JumpStart.png)"
   ]
  },
  {
   "attachments": {},
   "cell_type": "markdown",
   "metadata": {},
   "source": [
    "One-click deploy it (here I used all the default settings for simplicity):\n",
    "![Deploy](images/Model-deploy.png)"
   ]
  },
  {
   "attachments": {},
   "cell_type": "markdown",
   "metadata": {},
   "source": [
    "When the endpoint is ready in service, a sample notebook is provided.\n",
    "![open notebook](images/Open-notebook.png)"
   ]
  },
  {
   "attachments": {},
   "cell_type": "markdown",
   "metadata": {},
   "source": [
    "By opening it in SageMaker Studio you can already play around with it. Since I have all my AWS credentials and Jupyter notebook server already set up locally, I downloaded it and had some fun in my local VSCode 😆. (You can find this notebook in my github repo.)"
   ]
  },
  {
   "attachments": {},
   "cell_type": "markdown",
   "metadata": {},
   "source": [
    "```python\n",
    "# response = query_endpoint(\"cottage in impressionist style\")\n",
    "response = query_endpoint(\"a cat astronaut fighting aliens in space, realistic, high res\")\n",
    "\n",
    "img, prmpt = parse_response(response)\n",
    "\n",
    "# Display hallucinated image\n",
    "display_image(img,prmpt)\n",
    "```"
   ]
  },
  {
   "attachments": {},
   "cell_type": "markdown",
   "metadata": {},
   "source": [
    "![](images/output-1.png)"
   ]
  },
  {
   "attachments": {},
   "cell_type": "markdown",
   "metadata": {},
   "source": [
    "## Build the API"
   ]
  },
  {
   "attachments": {},
   "cell_type": "markdown",
   "metadata": {},
   "source": [
    "### Fast and Minimum Start"
   ]
  },
  {
   "attachments": {},
   "cell_type": "markdown",
   "metadata": {},
   "source": [
    "I've wanted to try out FastAPI because it looks so fast and has a nice Swagger experience built in. So I first installed it as instructed in the [official website](https://fastapi.tiangolo.com/#installation):\n",
    "\n",
    "```bash\n",
    "# Install fastapi as well as the ASGI server Uvicorn\n",
    "$ pip3 install fastapi\n",
    "$ pip3 install uvicorn[standard]\n",
    "```\n"
   ]
  },
  {
   "attachments": {},
   "cell_type": "markdown",
   "metadata": {},
   "source": [
    "Then I created a `main.py` file under my `api/` folder and typed in the minimal example of a FastAPI app:"
   ]
  },
  {
   "attachments": {},
   "cell_type": "markdown",
   "metadata": {},
   "source": [
    "```python\n",
    "from typing import Union\n",
    "\n",
    "from fastapi import FastAPI\n",
    "\n",
    "app = FastAPI()\n",
    "\n",
    "\n",
    "@app.get(\"/\")\n",
    "def read_root():\n",
    "    return {\"Hello\": \"World\"}\n",
    "\n",
    "\n",
    "@app.get(\"/items/{item_id}\")\n",
    "def read_item(item_id: int, q: Union[str, None] = None):\n",
    "    return {\"item_id\": item_id, \"q\": q}\n",
    "```"
   ]
  },
  {
   "attachments": {},
   "cell_type": "markdown",
   "metadata": {},
   "source": [
    "Run the `uvicorn` dev server in my `/api` folder:\n",
    "\n",
    "```bash\n",
    "$ uvicorn main:app --reload\n",
    "```"
   ]
  },
  {
   "attachments": {},
   "cell_type": "markdown",
   "metadata": {},
   "source": [
    "And as promised, I got a working API at `http://127.0.0.1L8000/` and my API doc Swagger UI at `http://127.0.0.1:8000/docs`, instantly 🚀!\n",
    "\n",
    "![](images/fast-api.png)\n",
    "\n",
    "![](images/swagger.png)"
   ]
  },
  {
   "attachments": {},
   "cell_type": "markdown",
   "metadata": {},
   "source": [
    "### Connect the API to the Model"
   ]
  },
  {
   "attachments": {},
   "cell_type": "markdown",
   "metadata": {},
   "source": [
    "Now it's time to make our API able to send a prompt to our Stable Diffusion model and get a response image. Let me first add a route and handler function for that:"
   ]
  },
  {
   "attachments": {},
   "cell_type": "markdown",
   "metadata": {},
   "source": [
    "```python\n",
    "# api/main.py\n",
    "@app.get(\"/generate-image\")\n",
    "def generate_image(prompt: str):\n",
    "    image, prmpt = utils.parse_response(utils.query_endpoint(prompt))\n",
    "    print(image)\n",
    "    return {\"out\": \"yeah\"}\n",
    "```"
   ]
  },
  {
   "attachments": {},
   "cell_type": "markdown",
   "metadata": {},
   "source": [
    "I picked the `query_endpoint()` function and the `parse_response()` function from the Stable Diffusion example Notebook that SageMaker JumpStart generated for me, and packed them in a `utils.py` file to be used in the API `main.py` file."
   ]
  },
  {
   "attachments": {},
   "cell_type": "markdown",
   "metadata": {},
   "source": [
    "After saving the `main.py` file with the added new route, the Swagger UI conveniently added it and provides a test UI for me to input my prompt!"
   ]
  },
  {
   "attachments": {},
   "cell_type": "markdown",
   "metadata": {},
   "source": [
    "![](images/swagger-2.png)"
   ]
  },
  {
   "attachments": {},
   "cell_type": "markdown",
   "metadata": {},
   "source": [
    "And the model does send back the image generation! What does it look like? Well, it's an array of RGB channel values of each pixel in the image! Crazy, isn't it?"
   ]
  },
  {
   "attachments": {},
   "cell_type": "markdown",
   "metadata": {},
   "source": [
    "![](images/image-pixels.png)"
   ]
  },
  {
   "attachments": {},
   "cell_type": "markdown",
   "metadata": {},
   "source": [
    "### Process and Save the Image"
   ]
  },
  {
   "attachments": {},
   "cell_type": "markdown",
   "metadata": {},
   "source": [
    "To turn the magic numbers into image, I used [numpy](https://numpy.org/) and [PIL(Pillow)](https://pypi.org/project/Pillow/). For a quick test, I just added another utility function to save the image to disk (where the function is running)."
   ]
  },
  {
   "attachments": {},
   "cell_type": "markdown",
   "metadata": {},
   "source": [
    "```python\n",
    "# api/utils.py\n",
    "from PIL import Image\n",
    "import numpy as np\n",
    "\n",
    "# ...\n",
    "\n",
    "def save_image(pixels):\n",
    "    arr = np.array(pixels, dtype=np.uint8)\n",
    "    img = Image.fromarray(arr)\n",
    "    img.save(\"new.png\")\n",
    "```"
   ]
  },
  {
   "attachments": {},
   "cell_type": "markdown",
   "metadata": {},
   "source": [
    "Then in the API `/generate-image` route's handler, I plugged the image pixel array from response to this new utility function, and sent the prompt as the API response for now."
   ]
  },
  {
   "attachments": {},
   "cell_type": "markdown",
   "metadata": {},
   "source": [
    "```python\n",
    "# api/main.py\n",
    "# ...\n",
    "@app.get(\"/generate-image\")\n",
    "def generate_image(prompt: str):\n",
    "    image, prmpt = utils.parse_response(utils.query_endpoint(prompt))\n",
    "    utils.save_image(image)\n",
    "    return {\"prompt\": prmpt}\n",
    "```"
   ]
  },
  {
   "attachments": {},
   "cell_type": "markdown",
   "metadata": {},
   "source": [
    "Tested out in the Swagger UI with a new prompt: \"A unicorn astronaut in space, full body from side\"."
   ]
  },
  {
   "attachments": {},
   "cell_type": "markdown",
   "metadata": {},
   "source": [
    "![](images/swagger-3.png)"
   ]
  },
  {
   "attachments": {},
   "cell_type": "markdown",
   "metadata": {},
   "source": [
    "And in the `/api` folder a `new.png` appeared - the application works! Have a look at the unicorn astronaut image generated by Stable Diffusion and saved by the application:"
   ]
  },
  {
   "attachments": {},
   "cell_type": "markdown",
   "metadata": {},
   "source": [
    "![](images/new.png)"
   ]
  },
  {
   "attachments": {},
   "cell_type": "markdown",
   "metadata": {},
   "source": [
    "## Build the UI"
   ]
  },
  {
   "attachments": {},
   "cell_type": "markdown",
   "metadata": {},
   "source": []
  }
 ],
 "metadata": {
  "language_info": {
   "name": "python"
  },
  "orig_nbformat": 4
 },
 "nbformat": 4,
 "nbformat_minor": 2
}

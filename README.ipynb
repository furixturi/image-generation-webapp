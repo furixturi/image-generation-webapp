{
 "cells": [
  {
   "attachments": {},
   "cell_type": "markdown",
   "metadata": {},
   "source": [
    "# A Text to Image Web App with Stable Diffusion, Fast API and React"
   ]
  },
  {
   "attachments": {},
   "cell_type": "markdown",
   "metadata": {},
   "source": [
    "Inspired by [Nicholas Renotte's YouTube video](https://www.youtube.com/watch?v=3l16wCsDglU), I'm coding up this as my weekend fun project. "
   ]
  },
  {
   "attachments": {},
   "cell_type": "markdown",
   "metadata": {},
   "source": [
    "## Deploy the Model"
   ]
  },
  {
   "attachments": {},
   "cell_type": "markdown",
   "metadata": {},
   "source": [
    "To deploy the Stable Diffusion model, I took a shortcut to use SageMaker JumpStart: `Stable Diffusion 2.1 base` pretrained on [LAION-5B](https://laion.ai/blog/laion-5b/) is provided under SageMaker JumpStart's \"Foundation Models: Image Generation\" ML task. It can be deployed by one click, so that's what I did!"
   ]
  },
  {
   "attachments": {},
   "cell_type": "markdown",
   "metadata": {},
   "source": [
    "Find the model:\n",
    "\n",
    "![SageMaker JumpStart](images/SageMaker-JumpStart.png)"
   ]
  },
  {
   "attachments": {},
   "cell_type": "markdown",
   "metadata": {},
   "source": [
    "One-click deploy it (here I used all the default settings for simplicity):\n",
    "![Deploy](images/Model-deploy.png)"
   ]
  },
  {
   "attachments": {},
   "cell_type": "markdown",
   "metadata": {},
   "source": [
    "When the endpoint is ready in service, a sample notebook is provided.\n",
    "![open notebook](images/Open-notebook.png)"
   ]
  },
  {
   "attachments": {},
   "cell_type": "markdown",
   "metadata": {},
   "source": [
    "Opening it in SageMaker Studio you can already play around with it. Since I have all my AWS credentials and Jupyter already set up locally, I downloaded it and had some fun in my local VSCode 😆. (You can find this notebook in my github repo.)"
   ]
  }
 ],
 "metadata": {
  "language_info": {
   "name": "python"
  },
  "orig_nbformat": 4
 },
 "nbformat": 4,
 "nbformat_minor": 2
}
